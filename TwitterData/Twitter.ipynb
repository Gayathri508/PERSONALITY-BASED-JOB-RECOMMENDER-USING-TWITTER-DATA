{
 "cells": [
  {
   "cell_type": "code",
   "execution_count": null,
   "metadata": {
    "colab": {
     "base_uri": "https://localhost:8080/"
    },
    "id": "sCUld7RQwmNa",
    "outputId": "65fa2bb0-32e3-4a85-a978-52dd49ccbf0c"
   },
   "outputs": [
    {
     "name": "stdout",
     "output_type": "stream",
     "text": [
      "Requirement already satisfied: tweepy in /usr/local/lib/python3.7/dist-packages (3.10.0)\n",
      "Requirement already satisfied: six>=1.10.0 in /usr/local/lib/python3.7/dist-packages (from tweepy) (1.15.0)\n",
      "Requirement already satisfied: requests-oauthlib>=0.7.0 in /usr/local/lib/python3.7/dist-packages (from tweepy) (1.3.0)\n",
      "Requirement already satisfied: requests[socks]>=2.11.1 in /usr/local/lib/python3.7/dist-packages (from tweepy) (2.23.0)\n",
      "Requirement already satisfied: oauthlib>=3.0.0 in /usr/local/lib/python3.7/dist-packages (from requests-oauthlib>=0.7.0->tweepy) (3.1.0)\n",
      "Requirement already satisfied: urllib3!=1.25.0,!=1.25.1,<1.26,>=1.21.1 in /usr/local/lib/python3.7/dist-packages (from requests[socks]>=2.11.1->tweepy) (1.24.3)\n",
      "Requirement already satisfied: certifi>=2017.4.17 in /usr/local/lib/python3.7/dist-packages (from requests[socks]>=2.11.1->tweepy) (2020.12.5)\n",
      "Requirement already satisfied: idna<3,>=2.5 in /usr/local/lib/python3.7/dist-packages (from requests[socks]>=2.11.1->tweepy) (2.10)\n",
      "Requirement already satisfied: chardet<4,>=3.0.2 in /usr/local/lib/python3.7/dist-packages (from requests[socks]>=2.11.1->tweepy) (3.0.4)\n",
      "Requirement already satisfied: PySocks!=1.5.7,>=1.5.6; extra == \"socks\" in /usr/local/lib/python3.7/dist-packages (from requests[socks]>=2.11.1->tweepy) (1.7.1)\n"
     ]
    }
   ],
   "source": [
    "!pip install tweepy"
   ]
  },
  {
   "cell_type": "code",
   "execution_count": null,
   "metadata": {
    "id": "iyW_Z2a4yb80"
   },
   "outputs": [],
   "source": [
    "import os \n",
    "import tweepy as tw\n",
    "import pandas as pd"
   ]
  },
  {
   "cell_type": "code",
   "execution_count": null,
   "metadata": {
    "id": "0JablEqoyboO"
   },
   "outputs": [],
   "source": [
    "consumer_key = 'DadKR3DKcG1PWvyh8igvAIaYN'\n",
    "consumer_secret = 'KjWoOAwm7uwwT0vTGWcuomuPq9Wglo5pA29kPxhOPvddMmO2Eg'\n",
    "access_token = '1266720191502680066-YGjG1jvAjIOOsG6NibYCDH7trAznfk'\n",
    "access_token_secret = '1E8fi5w2hi8eRyvnVvHcJnOU9p66oiJaXe5l1PAIQNYqA'"
   ]
  },
  {
   "cell_type": "code",
   "execution_count": null,
   "metadata": {
    "id": "wYSdfGa0ybl9"
   },
   "outputs": [],
   "source": [
    "auth = tw.OAuthHandler(consumer_key, consumer_secret)\n",
    "auth.set_access_token(access_token, access_token_secret)\n",
    "api = tw.API(auth, wait_on_rate_limit=True)"
   ]
  },
  {
   "cell_type": "code",
   "execution_count": null,
   "metadata": {
    "id": "AjAtwY23ybiR"
   },
   "outputs": [],
   "source": [
    "handle = '@pbhushan1'"
   ]
  },
  {
   "cell_type": "code",
   "execution_count": null,
   "metadata": {
    "id": "dcVl01Kyybf3"
   },
   "outputs": [],
   "source": [
    "res = api.user_timeline(screen_name=handle, count=100, include_rts=True)"
   ]
  },
  {
   "cell_type": "code",
   "execution_count": null,
   "metadata": {
    "id": "s2IJZkjPybb_"
   },
   "outputs": [],
   "source": [
    "tweets = [tweet.text for tweet in res]"
   ]
  },
  {
   "cell_type": "code",
   "execution_count": null,
   "metadata": {
    "colab": {
     "base_uri": "https://localhost:8080/"
    },
    "id": "UbU6aTgeybaC",
    "outputId": "5df30b1c-0c46-4409-b835-201ec6955690"
   },
   "outputs": [
    {
     "data": {
      "text/plain": [
       "[\"PM in March '20: Give me 3 weeks, Covid will be over; Govt in '21: We have made all arrangements for healthcare &amp; O… https://t.co/nIaIU0iDOf\",\n",
       " 'RT @Jairam_Ramesh: Shortage of Oxygen in hospitals across the country is an UNMITIGATED MAN-MADE DISASTER!\\nStanding Committee on Health in…',\n",
       " 'Our thoughts are with you Barkha &amp; with many others whose loved ones are battling for their lives at this terrible… https://t.co/zuEOQv8OV6',\n",
       " '\"SIIs Rs 600/dose for Covishield in private hospitals is its highest rate the world over.\\nThis, despite it being co… https://t.co/sRNuaZnLLN',\n",
       " 'RT @_YogendraYadav: A vaccine being manufactured in Pune would cost ₹225 in London &amp; ₹600 in Pune.\\nThis, when the CEO of SII is on record t…',\n",
       " '\"Evasion, Hypocrisy, and Duplicity: The Legacy of Chief Justice Bobde\": Gautam Bhatia\\'s unsparing critique! https://t.co/Dm0GerD1QF',\n",
       " 'Sanjay Hegde writes a charitable piece on CJI Bobde\\'s legacy: \"In the face of persistent clamour, he yielded his in… https://t.co/XXSZWLpo5L',\n",
       " 'As we bid farewell to CJI Bobde, I look at his very disappointing legacy. https://t.co/mEkFg4uDKI',\n",
       " 'After twiddling their thumbs for days &amp; doing nothing about the Carnage of Covid &amp; the ineptitude of govts, the SC… https://t.co/Kf4hVDdPC1',\n",
       " 'A triple mutant is dominant now in Bengal which is resistant to the current Vaccines. Already Vaccine manufacturers… https://t.co/ZFh6DVC1rr',\n",
       " 'As we lose so many friends, family, colleagues...known and unknown faces and names...remembering families who are g… https://t.co/a1clxbk2M5',\n",
       " 'RT @Kisanektamorcha: Amidst harsh COVID-19 spread, Modi govt. is blaming Farmers to cease the supply of oxygen around the nation.\\nHC to Cen…',\n",
       " 'This is a terrible loss Sita. We live through the darkest time of our lives. May you have the strength to bear this… https://t.co/Qk8XpAgFzU',\n",
       " 'Didii--oo--Didiii! https://t.co/Rb0u2vx10g',\n",
       " 'Watch: A discussion on RTI &amp;the need for transparency of Banks &amp; RBI amidst burgeoning bank frauds, organised by… https://t.co/NZrL6FyN6E',\n",
       " 'Centre allows Vaccine manufacturers to make a killing from Covid while bleeding the States &amp; people dry! https://t.co/pYrzM0Mm2U',\n",
       " 'Wow! How true! Pearls of wisdom! https://t.co/R4giIXD4jR',\n",
       " 'Manipur HC on Refugees🙏“This court is conscious of the fact that India is not a signatory to the Geneva Refugee Con… https://t.co/gSEV4jdhcw',\n",
       " 'The Speech! Atma Nirbhar bano! https://t.co/xREdNMFL9K',\n",
       " \"4 independent experts commissioned by Washington Post found that Arsenal Consulting's report about 32 documents (us… https://t.co/DWiKYMKQKY\",\n",
       " 'RT @goddeketal: 1/77: #Science and neutral reporting are increasingly being oppressed. This is only possible as we find ourselves in a cont…',\n",
       " 'Priorities during Covid! https://t.co/qtZuffN1av',\n",
       " 'देखिए, पुण्य प्रसून वाजपेई की शानदार प्रस्तुति: कोरोना के दूसरे दौर में प्रवासी मजदूरों पर क्या बीत रही है। सरकारों… https://t.co/6psb0diclD',\n",
       " \"'Voters Are With Us’: Why BJP Isn’t Worried About The Worsening Covid Crisis And Rising Death! Wow!\\nhttps://t.co/vdjSsKFPyi\",\n",
       " 'RT @satishacharya: What a rally! https://t.co/Jh6biRIvlT',\n",
       " 'RT @satishacharya: Too much oxygen! @sifydotcom cartoon #OxygenShortage https://t.co/vUX4JEr8fK',\n",
       " '\"जो दिन रात जहर खोलता है हवा में, क्यों उम्मीद करते हो कि वह अक्सीजन लाऐगा। जो श्मशान और कब्रिस्तान की बात करता है… https://t.co/x1bQFiE22U',\n",
       " '\"In a first, JMM discloses electoral bond details: Rs 1 crore from Hindalco\". That is a great step towards transpar… https://t.co/9Zif02o8jg',\n",
       " 'See the thread below about 50 studies which show that Lockdowns have done little to stop the spread of Covid;&amp;on th… https://t.co/NhAOkVoDoW',\n",
       " 'I know many people who got Covid after the Vaccine. We need to study how many Covid positive people getting hospita… https://t.co/BomdFcAgxq',\n",
       " 'RT @MartinKulldorff: By falsely claiming that vaccinated people must wear masks and physically distance, Anthony Fauci is undermining trust…',\n",
       " \"RT @free_thinker: Everybody is looking for plasma, but please do read this article in NYT as to what happened to US's COVID-19 plasma progr…\",\n",
       " 'RT @sharmasupriya: 150 new oxygen plants for district hospitals\\n\\nCost: Rs 200 crore\\n\\nBut it took the government eight months to float tende…',\n",
       " 'RT @AudreyTruschke: VHP America invited this man--who promotes deadly violence against Muslims and radicalizes followers--to speak to a US…',\n",
       " 'RT @dhruv_rathee: Scientists researched the vaccine\\nCompanies produced the vaccine\\nTaxpayer is paying cost of vaccine\\nDoctors are giving th…',\n",
       " 'RT @NickHudsonCT: A powerful and universal speech. I agree with every word. “The fight of our generation.” 14 minutes.\\n\\nYouTube is essentia…',\n",
       " 'The recent order of the SC on the detention &amp; threatened deportation of Rohingya refugees, is bereft of any cogent… https://t.co/K2RdnwstEc',\n",
       " 'RT @caroljsroth: Thread/\\nWhy do people not trust “experts”, the govt or the media? \\n\\nHere’s a little bit on what happened around masks.\\n\\nWh…',\n",
       " 'The billionaires in India doubled their wealth during Covid! The Vaccine &amp; Tech companies made a killing due to Cov… https://t.co/uZKFuDYNte',\n",
       " 'More than the virus, the more frightening thing is the fear mongering&amp;censorship to a point when it becomes impossi… https://t.co/SQePCG7q7e',\n",
       " 'For 1 week my twitter acc was suspended for tweeting a well referenced article(&gt;60 peer reviewed journal citations)… https://t.co/b28EOCXtEG',\n",
       " 'Watch: Bill Maher tell us some home truths about Covid, fear, Lockdowns, politics &amp; media. How we are being scared… https://t.co/9YuWSpJnyF',\n",
       " 'RT @berniespofforth: Implementing the ‘No jab, no job’ policy, New Zealand PM outlines that private companies will also be ‘obliged’ to ens…',\n",
       " 'As we are getting forced into more Lockdowns due to current wave of Covid, all should read the Great Barrington dec… https://t.co/8oXTn8mwxh',\n",
       " 'Read: Dr Martin Kulldorf of Harvard &amp; Dr Jay Bhattacharya of Stanford explain why Vaccine passports are unjust, dis… https://t.co/uV27KmFLVH',\n",
       " 'Without reading this very detailed meta study on the efficacy of masks,you continue to peddle establishment views o… https://t.co/RCImPshL6f',\n",
       " 'People are free to choose religion: SC: \"Justice Nariman reminded Upadhyay of the fundamental right under Article 2… https://t.co/0HdjvE7FK8',\n",
       " '@poonamjourno is one of the bravest &amp; finest journalists around. Hoe she wins her election tomorrow https://t.co/E8H8LbxCKy',\n",
       " 'Cry, our beloved country! https://t.co/NhIJOJE3La',\n",
       " 'Read Shailesh Gandhi:\"Covid-19 is a dream opportunity for courts to have virtual hearings.The SC drew the right les… https://t.co/93KbeQDTp5',\n",
       " 'RT @satishacharya: Rafale! #Rafaledeal https://t.co/EffAYTY1j9',\n",
       " \"RT @reporters_co: Part 2 of The Data Scandal: Gadkari's ministry sold India's vehicle data to a pvt firm for cheap. The Indian firm in turn…\",\n",
       " 'Kashi Vishwanath-Gyanvapi Mosque Land Title Dispute: Varanasi Court Allows ASI Survey;\\nThis is totally against the… https://t.co/XTSOfTgnE5',\n",
       " 'How China pulled off the biggest deception in history:\"The West is entirely depleted due to lockdowns&amp;other destruc… https://t.co/izzL66KWzI',\n",
       " 'RT @AltNews: #AnyoneCanFactCheck: Investigating the images circulating around Bengal Elections - A tutorial https://t.co/CgcE51sPUA',\n",
       " 'RT @HoeZaay: Times Now calling a Chinese Restaurant.. https://t.co/iPIyfPkDkK',\n",
       " 'So PM bought thousands of bogus Ventilators using secret PM-Cares funds which were extracted from PSUs, Govt servan… https://t.co/GZ9X89KFzr',\n",
       " \"RT @reporters_co: SCOOP | Gadkari's ministry sold vehicle ownership data of entire country to a firm in a secretive deal. Officials warned…\",\n",
       " \"40 doctors, most fully vaccinated, test positive for COVID-19 at Lucknow's KGMU. Yet we are not told about studies… https://t.co/ypKe4xbnRQ\",\n",
       " 'RT @Ram_Guha: Why keeping donations by private companies to political parties secret \"is a sure step to legitimise and legalise crony capit…',\n",
       " 'RT @MahuaMoitra: Mamatadi issued notice by @ECISVEEP on @BJP’s complaint\\n\\nWhat about TMC complaints of\\n1. Video evidence of BJP candidate d…',\n",
       " 'RT @NickHudsonCT: After half a million views, an outpouring of emotional positive responses, no complaints about veracity &amp; 100 likes for e…',\n",
       " 'फ्रांस से रफाएल सौदे में दलाली के खुलासे के बाद अब सवाल यह उठता है, कि, क्या चौकीदार चोर है, या चोर ही चौकीदार है? https://t.co/E7if0NT1ca',\n",
       " 'Important thread about Lockdowns. Do read it https://t.co/eMLttOxA9O',\n",
       " 'RT @SKMorefield: This is the sick society that forced public masking has created, A paranoid, hypochondriac, dystopian hellscape where two-…',\n",
       " 'RT @jeremyrhammond: Note that by their own definition, #lockdown measures including stay-at-home orders and business closures are \"a crime…',\n",
       " 'Meet our PM who begged for food for 35 years of his life! https://t.co/6hnYwIvUhJ',\n",
       " 'RT @dhruv_rathee: List of Most Stupid COVID restrictions \\n\\n👉 Wearing a mask when you are alone in your own car\\n👉 Night Curfews which increa…',\n",
       " 'FAQs on Covid! https://t.co/ICxM2ExNmA',\n",
       " 'Watch:Nick Hudson of Pandemics Data Analysis https://t.co/liGlPNqM81 explain the statistical data showing; neither… https://t.co/wrLJJbpm0W',\n",
       " 'RT @mkvenu1: Nothing captures changing Bengal like this piece by @shankarshanT \\nBengal is in the throes of unalloyed bigotry - Telegraph In…',\n",
       " '2 legends! https://t.co/cELbJzGm37',\n",
       " 'Houseful Hai?!😆 https://t.co/sTjUs3NZSA',\n",
       " 'RT @MahuaMoitra: ₹1000 coupons distributed by BJP in WB’s Raidighi to villagers to attend PM’s meeting &amp; vote BJP.\\n(Full details in today’s…',\n",
       " '\"French Prosecutor Overruled Deputy to Close Rafale Probe, Cited \\'Interests of France\\'. Mediapart also reveals how… https://t.co/O4HbaLBG18',\n",
       " 'With EVMs captured &amp; EC having joined BJP, Whither Democracy? https://t.co/yLaslD9gSt',\n",
       " 'RT @GargiRawat: Difficult to watch. Man being brutally beaten by police in Indore for not wearing a mask. His wailing child pleads for him.…',\n",
       " 'RT @suryapsingh_IAS: आतंकवादियों की तरह पीटा जा रहा यह व्यक्ति एक छोटा सा व्यापारी है। इस गलती बस इतनी सी थी की इसने मास्क नहीं पहना था।…',\n",
       " '\"Gadkari had denied the SVT report that Swedish Company Scania had gifted him a luxury bus in hopes of receiving a… https://t.co/XPKXt4XSzP',\n",
       " '#RafaleScam French leaks! https://t.co/N4ZnWS3gdw',\n",
       " 'RT @SaketGokhale: Oh lookie! \\n\\nWho’s posing with Sushen Mohan Gupta - the middleman that French anti-corruption agency Agence Française Ant…',\n",
       " '#RafaleScam 1M Euro to middleman as Gift! https://t.co/XZQoVSuPiQ',\n",
       " 'RT @Pun_Starr: Before West Bengal elections, people used to think EVMs can be hacked. Now they know, EC can also be hacked.',\n",
       " 'There are many people I know who have got Covid recently after getting Vaccinated. The current Covid wave is likely… https://t.co/QXM0jDt406',\n",
       " 'RT @malini_aisola: On 19 March @MoHFW_INDIA informed Parliament- \"there is no provision of compensation for recipients of COVID-19 vaccine…',\n",
       " 'Adityanath Used an Expletive. The Lies&amp; Threats His Advisors Put Out Were Even Worse.\\nThe UP CM was seen&amp;heard on l… https://t.co/LOuwk7xD9r',\n",
       " 'RT @Kisanektamorcha: The Modi govt. has made every effort to destroy and exploit the lives of the farmers. \\n\\nWith the new farm bills passed…',\n",
       " 'RT @TheDeshBhakt: #ElectionCommission - \\nEVMs are tamper proof \\nEVMs are tamper proof \\nEVMs are tamper proof \\nEVMs are tamper proof \\nEVMs a…',\n",
       " 'Alld HC quashed bulk of NSA cases: \"Police FIRs that cut &amp; paste key details across different locations; detention… https://t.co/SIFy6PPl3T',\n",
       " \"Watch: I talk about the new revelations from France about the 9 Cr 'gift' by Rafale Manufacturer to Indian middlema… https://t.co/dz7MHqErM1\",\n",
       " '#EVM Captured! https://t.co/v5gmuQUKoT',\n",
       " 'योगी जी अपनी संतों की भाषा में देश के वैज्ञानिक और ANI के कैमरामैन का अभिनंदन कर रहे हैं। बाद में ANI ने यह रिकॉ… https://t.co/B5crmvvVEh',\n",
       " 'RT @SushantSin: The latest @Mediapart story (Part 1) on the Rafale deal by @AnttonRouget talks about a payment made by Dassault to an India…',\n",
       " 'In India, the investigation into the Rafale Scam was prevented by removing CBI Director Alok Verma in a midnight co… https://t.co/7wUtnjJ5dr',\n",
       " 'RT @svaradarajan: Rafale Deal: French Anti-Corruption Body Suspected Dassault Made Payment to Indian Middleman, Claims Report https://t.co/…',\n",
       " \"And the Lord of SC's sealed cover jurisprudence, who should have ordered an independent investigation into this sti… https://t.co/KLBCjFLi5A\",\n",
       " 'This is only the tip of the iceberg though. The real scandal is the manner in which a done deal of 126 aircraft wit… https://t.co/FkBz6MqaHK',\n",
       " 'RT @suryapsingh_IAS: ये है मुख्यमंत्री योगी आदित्यनाथ का असली चेहरा।\\n\\nANI के कैमरामैन को ज़रा सी आवाज पर ‘चूतिया कहीं के’ कह कर संबोधित कर…',\n",
       " 'Breaking!\\n\"Sale of French Rafale jet fighters to India: How a state scandal was buried: Mediapart can reveal that,… https://t.co/hcApxNTJwW']"
      ]
     },
     "execution_count": 9,
     "metadata": {
      "tags": []
     },
     "output_type": "execute_result"
    }
   ],
   "source": [
    "tweets"
   ]
  },
  {
   "cell_type": "code",
   "execution_count": null,
   "metadata": {
    "id": "DvEuwEATybVk"
   },
   "outputs": [],
   "source": []
  },
  {
   "cell_type": "code",
   "execution_count": null,
   "metadata": {
    "id": "U_cvgbfoybSw"
   },
   "outputs": [],
   "source": []
  },
  {
   "cell_type": "code",
   "execution_count": null,
   "metadata": {
    "id": "e0xoDs0EybOZ"
   },
   "outputs": [],
   "source": []
  },
  {
   "cell_type": "code",
   "execution_count": null,
   "metadata": {
    "id": "_dIU4ZW5ybMS"
   },
   "outputs": [],
   "source": []
  },
  {
   "cell_type": "code",
   "execution_count": null,
   "metadata": {
    "id": "_0jtT9wcyabw"
   },
   "outputs": [],
   "source": []
  }
 ],
 "metadata": {
  "colab": {
   "collapsed_sections": [],
   "name": "Twitter.ipynb",
   "provenance": []
  },
  "kernelspec": {
   "display_name": "Python 3",
   "language": "python",
   "name": "python3"
  },
  "language_info": {
   "codemirror_mode": {
    "name": "ipython",
    "version": 3
   },
   "file_extension": ".py",
   "mimetype": "text/x-python",
   "name": "python",
   "nbconvert_exporter": "python",
   "pygments_lexer": "ipython3",
   "version": "3.8.8"
  }
 },
 "nbformat": 4,
 "nbformat_minor": 1
}
